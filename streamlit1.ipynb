{
 "cells": [
  {
   "cell_type": "code",
   "execution_count": 3,
   "metadata": {},
   "outputs": [
    {
     "name": "stdout",
     "output_type": "stream",
     "text": [
      "\n",
      "<class 'str'>\n",
      "False\n"
     ]
    }
   ],
   "source": [
    "import streamlit as st\n",
    "st.title(\"Hello World App\")\n",
    "st.write(\"please provide your details in sidebar on the left \")\n",
    "# add a sidebar\n",
    "st.sidebar.subheader(\"Details about yourself\")\n",
    "first_name = st.sidebar.text_input(label = \"First name\")\n",
    "print(first_name)\n",
    "print(type(first_name))\n",
    "\n",
    "last_name = st.sidebar.text_input(label =\"last name\")\n",
    "age = st.sidebar.number_input(label=\"Age\", min_value=1, step= 1)\n",
    "gender = st.sidebar.radio(label=\"Gender\", options=['Male', 'Female', 'NA'])\n",
    "\n",
    "submit_button = st.sidebar.button(label = \"Submit\")\n",
    "print(submit_button)\n",
    "\n",
    "if submit_button:\n",
    "    st.write(\"first name is \"+first_name)\n",
    "    st.write(\"last name is \"+last_name)\n",
    "    st.write(\"Age is \"+ str(age))\n",
    "    st.write(\"Gender is \"+gender)\n",
    "\n",
    "\n",
    "\n"
   ]
  },
  {
   "cell_type": "code",
   "execution_count": null,
   "metadata": {},
   "outputs": [],
   "source": []
  }
 ],
 "metadata": {
  "kernelspec": {
   "display_name": "Python 3",
   "language": "python",
   "name": "python3"
  },
  "language_info": {
   "codemirror_mode": {
    "name": "ipython",
    "version": 3
   },
   "file_extension": ".py",
   "mimetype": "text/x-python",
   "name": "python",
   "nbconvert_exporter": "python",
   "pygments_lexer": "ipython3",
   "version": "3.8.3"
  }
 },
 "nbformat": 4,
 "nbformat_minor": 4
}
